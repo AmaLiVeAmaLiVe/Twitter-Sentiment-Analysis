{
 "cells": [
  {
   "metadata": {},
   "cell_type": "markdown",
   "source": "# Testing the model",
   "id": "75fdff5655b66297"
  },
  {
   "metadata": {},
   "cell_type": "markdown",
   "source": [
    "In this notebook, I will test my best trained model on the data that it has never seen before to see if it is quite good in practice. \n",
    "Data can be found <a href=\"https://www.kaggle.com/datasets/jp797498e/twitter-entity-sentiment-analysis\"> here </a>"
   ],
   "id": "1447d0cb779b54f7"
  },
  {
   "metadata": {},
   "cell_type": "markdown",
   "source": "I will conduct the same data preprocessing steps as in the twitter sentiment analysis notebook to prepare it for the following model predicting. In this notebook, I consider that any data visualization plots are not significant for the testing and evaluation my model, with the exception of the confusion matrix plot and ROC-AUC curve.  ",
   "id": "4663293b31682d59"
  },
  {
   "cell_type": "code",
   "id": "initial_id",
   "metadata": {
    "collapsed": true,
    "ExecuteTime": {
     "end_time": "2024-08-07T19:26:14.782935Z",
     "start_time": "2024-08-07T19:26:14.252423Z"
    }
   },
   "source": [
    "# utilities\n",
    "import pandas as pd\n",
    "import stopwords\n",
    "import string\n",
    "import joblib\n",
    "import sys\n",
    "\n",
    "# nltk\n",
    "from nltk.tokenize import RegexpTokenizer\n",
    "import nltk"
   ],
   "outputs": [],
   "execution_count": 1
  },
  {
   "metadata": {
    "ExecuteTime": {
     "end_time": "2024-08-07T19:26:14.798640Z",
     "start_time": "2024-08-07T19:26:14.784641Z"
    }
   },
   "cell_type": "code",
   "source": "sys.path.append('../scripts')",
   "id": "9db3df0ad02ff034",
   "outputs": [],
   "execution_count": 2
  },
  {
   "metadata": {
    "ExecuteTime": {
     "end_time": "2024-08-07T19:26:14.814649Z",
     "start_time": "2024-08-07T19:26:14.801642Z"
    }
   },
   "cell_type": "code",
   "source": [
    "# importing the necessary functions for data preprocessing and model evaluation\n",
    "\n",
    "from preprocessing_data import remove_stopwords, remove_punctuations, remove_URLs, remove_numbers, stemming, lemmatizing\n",
    "from evaluate_model import evaluate_model"
   ],
   "id": "b3ea70776378aa8a",
   "outputs": [],
   "execution_count": 3
  },
  {
   "metadata": {
    "ExecuteTime": {
     "end_time": "2024-08-07T19:26:14.846640Z",
     "start_time": "2024-08-07T19:26:14.815641Z"
    }
   },
   "cell_type": "code",
   "source": [
    "# importing the dataset\n",
    "\n",
    "DATASET_COLUMNS=['ids', 'entity', 'target', 'text']\n",
    "csv_path = \"../data/twitter_validation.csv\"\n",
    "\n",
    "df = pd.read_csv(csv_path, names=DATASET_COLUMNS)\n",
    "df.head()"
   ],
   "id": "5b5dab1d33a3a037",
   "outputs": [
    {
     "data": {
      "text/plain": [
       "    ids     entity      target  \\\n",
       "0  3364   Facebook  Irrelevant   \n",
       "1   352     Amazon     Neutral   \n",
       "2  8312  Microsoft    Negative   \n",
       "3  4371      CS-GO    Negative   \n",
       "4  4433     Google     Neutral   \n",
       "\n",
       "                                                text  \n",
       "0  I mentioned on Facebook that I was struggling ...  \n",
       "1  BBC News - Amazon boss Jeff Bezos rejects clai...  \n",
       "2  @Microsoft Why do I pay for WORD when it funct...  \n",
       "3  CSGO matchmaking is so full of closet hacking,...  \n",
       "4  Now the President is slapping Americans in the...  "
      ],
      "text/html": [
       "<div>\n",
       "<style scoped>\n",
       "    .dataframe tbody tr th:only-of-type {\n",
       "        vertical-align: middle;\n",
       "    }\n",
       "\n",
       "    .dataframe tbody tr th {\n",
       "        vertical-align: top;\n",
       "    }\n",
       "\n",
       "    .dataframe thead th {\n",
       "        text-align: right;\n",
       "    }\n",
       "</style>\n",
       "<table border=\"1\" class=\"dataframe\">\n",
       "  <thead>\n",
       "    <tr style=\"text-align: right;\">\n",
       "      <th></th>\n",
       "      <th>ids</th>\n",
       "      <th>entity</th>\n",
       "      <th>target</th>\n",
       "      <th>text</th>\n",
       "    </tr>\n",
       "  </thead>\n",
       "  <tbody>\n",
       "    <tr>\n",
       "      <th>0</th>\n",
       "      <td>3364</td>\n",
       "      <td>Facebook</td>\n",
       "      <td>Irrelevant</td>\n",
       "      <td>I mentioned on Facebook that I was struggling ...</td>\n",
       "    </tr>\n",
       "    <tr>\n",
       "      <th>1</th>\n",
       "      <td>352</td>\n",
       "      <td>Amazon</td>\n",
       "      <td>Neutral</td>\n",
       "      <td>BBC News - Amazon boss Jeff Bezos rejects clai...</td>\n",
       "    </tr>\n",
       "    <tr>\n",
       "      <th>2</th>\n",
       "      <td>8312</td>\n",
       "      <td>Microsoft</td>\n",
       "      <td>Negative</td>\n",
       "      <td>@Microsoft Why do I pay for WORD when it funct...</td>\n",
       "    </tr>\n",
       "    <tr>\n",
       "      <th>3</th>\n",
       "      <td>4371</td>\n",
       "      <td>CS-GO</td>\n",
       "      <td>Negative</td>\n",
       "      <td>CSGO matchmaking is so full of closet hacking,...</td>\n",
       "    </tr>\n",
       "    <tr>\n",
       "      <th>4</th>\n",
       "      <td>4433</td>\n",
       "      <td>Google</td>\n",
       "      <td>Neutral</td>\n",
       "      <td>Now the President is slapping Americans in the...</td>\n",
       "    </tr>\n",
       "  </tbody>\n",
       "</table>\n",
       "</div>"
      ]
     },
     "execution_count": 4,
     "metadata": {},
     "output_type": "execute_result"
    }
   ],
   "execution_count": 4
  },
  {
   "metadata": {
    "ExecuteTime": {
     "end_time": "2024-08-07T19:26:14.862640Z",
     "start_time": "2024-08-07T19:26:14.848641Z"
    }
   },
   "cell_type": "code",
   "source": [
    "# replacing the values for the easier understanding\n",
    "\n",
    "df.loc[df['target'] == 'Positive', 'target'] = 1\n",
    "df.loc[df['target'] == 'Negative', 'target'] = 0"
   ],
   "id": "4c282767473e43bc",
   "outputs": [],
   "execution_count": 5
  },
  {
   "metadata": {
    "ExecuteTime": {
     "end_time": "2024-08-07T19:26:14.877643Z",
     "start_time": "2024-08-07T19:26:14.863641Z"
    }
   },
   "cell_type": "code",
   "source": [
    "# getting rid of twits that has neutral either irrelevant sentiment\n",
    "\n",
    "df = df[~df['target'].isin(['Neutral', 'Irrelevant'])]"
   ],
   "id": "46d05443030e1e0d",
   "outputs": [],
   "execution_count": 6
  },
  {
   "metadata": {
    "ExecuteTime": {
     "end_time": "2024-08-07T19:26:14.893642Z",
     "start_time": "2024-08-07T19:26:14.879641Z"
    }
   },
   "cell_type": "code",
   "source": "df['target'].unique()",
   "id": "70fff575db34a77",
   "outputs": [
    {
     "data": {
      "text/plain": [
       "array([0, 1], dtype=object)"
      ]
     },
     "execution_count": 7,
     "metadata": {},
     "output_type": "execute_result"
    }
   ],
   "execution_count": 7
  },
  {
   "metadata": {
    "ExecuteTime": {
     "end_time": "2024-08-07T19:26:14.908639Z",
     "start_time": "2024-08-07T19:26:14.895641Z"
    }
   },
   "cell_type": "code",
   "source": [
    "# selecting target and text columns for the further analysis\n",
    "\n",
    "data = df[['target','text']]\n",
    "data.head()"
   ],
   "id": "fd033b5179b618bf",
   "outputs": [
    {
     "data": {
      "text/plain": [
       "  target                                               text\n",
       "2      0  @Microsoft Why do I pay for WORD when it funct...\n",
       "3      0  CSGO matchmaking is so full of closet hacking,...\n",
       "5      0  Hi @EAHelp I’ve had Madeleine McCann in my cel...\n",
       "6      1  Thank you @EAMaddenNFL!! \\n\\nNew TE Austin Hoo...\n",
       "7      1  Rocket League, Sea of Thieves or Rainbow Six: ..."
      ],
      "text/html": [
       "<div>\n",
       "<style scoped>\n",
       "    .dataframe tbody tr th:only-of-type {\n",
       "        vertical-align: middle;\n",
       "    }\n",
       "\n",
       "    .dataframe tbody tr th {\n",
       "        vertical-align: top;\n",
       "    }\n",
       "\n",
       "    .dataframe thead th {\n",
       "        text-align: right;\n",
       "    }\n",
       "</style>\n",
       "<table border=\"1\" class=\"dataframe\">\n",
       "  <thead>\n",
       "    <tr style=\"text-align: right;\">\n",
       "      <th></th>\n",
       "      <th>target</th>\n",
       "      <th>text</th>\n",
       "    </tr>\n",
       "  </thead>\n",
       "  <tbody>\n",
       "    <tr>\n",
       "      <th>2</th>\n",
       "      <td>0</td>\n",
       "      <td>@Microsoft Why do I pay for WORD when it funct...</td>\n",
       "    </tr>\n",
       "    <tr>\n",
       "      <th>3</th>\n",
       "      <td>0</td>\n",
       "      <td>CSGO matchmaking is so full of closet hacking,...</td>\n",
       "    </tr>\n",
       "    <tr>\n",
       "      <th>5</th>\n",
       "      <td>0</td>\n",
       "      <td>Hi @EAHelp I’ve had Madeleine McCann in my cel...</td>\n",
       "    </tr>\n",
       "    <tr>\n",
       "      <th>6</th>\n",
       "      <td>1</td>\n",
       "      <td>Thank you @EAMaddenNFL!! \\n\\nNew TE Austin Hoo...</td>\n",
       "    </tr>\n",
       "    <tr>\n",
       "      <th>7</th>\n",
       "      <td>1</td>\n",
       "      <td>Rocket League, Sea of Thieves or Rainbow Six: ...</td>\n",
       "    </tr>\n",
       "  </tbody>\n",
       "</table>\n",
       "</div>"
      ]
     },
     "execution_count": 8,
     "metadata": {},
     "output_type": "execute_result"
    }
   ],
   "execution_count": 8
  },
  {
   "metadata": {
    "ExecuteTime": {
     "end_time": "2024-08-07T19:26:14.923640Z",
     "start_time": "2024-08-07T19:26:14.909640Z"
    }
   },
   "cell_type": "code",
   "source": [
    "# dropping null twits from the dataset\n",
    "\n",
    "data = data.dropna()"
   ],
   "id": "c430ac15e6eba684",
   "outputs": [],
   "execution_count": 9
  },
  {
   "metadata": {
    "ExecuteTime": {
     "end_time": "2024-08-07T19:26:14.938640Z",
     "start_time": "2024-08-07T19:26:14.925640Z"
    }
   },
   "cell_type": "code",
   "source": [
    "# converting statement texts into lower case\n",
    "\n",
    "# data = data.copy()\n",
    "data['text'] = data['text'].str.lower()"
   ],
   "id": "d57e8ae694a0420d",
   "outputs": [],
   "execution_count": 10
  },
  {
   "metadata": {
    "ExecuteTime": {
     "end_time": "2024-08-07T19:26:14.986640Z",
     "start_time": "2024-08-07T19:26:14.940642Z"
    }
   },
   "cell_type": "code",
   "source": [
    "# cleaning and removing all the stopwords from the tweets\n",
    "\n",
    "stopwords_list = stopwords.get_stopwords(\"english\")\n",
    "\n",
    "data['text'] = data['text'].apply(lambda text: remove_stopwords(text, stopwords_list))\n",
    "data.head()"
   ],
   "id": "51c0cb1318c0c126",
   "outputs": [
    {
     "data": {
      "text/plain": [
       "  target                                               text\n",
       "2      0  @microsoft pay word functions poorly @samsungu...\n",
       "3      0  csgo matchmaking full closet hacking, truly aw...\n",
       "5      0  hi @eahelp i’ve madeleine mccann cellar past 1...\n",
       "6      1  thank @eamaddennfl!! new te austin hooper oran...\n",
       "7      1  rocket league, sea thieves rainbow six: siege🤔..."
      ],
      "text/html": [
       "<div>\n",
       "<style scoped>\n",
       "    .dataframe tbody tr th:only-of-type {\n",
       "        vertical-align: middle;\n",
       "    }\n",
       "\n",
       "    .dataframe tbody tr th {\n",
       "        vertical-align: top;\n",
       "    }\n",
       "\n",
       "    .dataframe thead th {\n",
       "        text-align: right;\n",
       "    }\n",
       "</style>\n",
       "<table border=\"1\" class=\"dataframe\">\n",
       "  <thead>\n",
       "    <tr style=\"text-align: right;\">\n",
       "      <th></th>\n",
       "      <th>target</th>\n",
       "      <th>text</th>\n",
       "    </tr>\n",
       "  </thead>\n",
       "  <tbody>\n",
       "    <tr>\n",
       "      <th>2</th>\n",
       "      <td>0</td>\n",
       "      <td>@microsoft pay word functions poorly @samsungu...</td>\n",
       "    </tr>\n",
       "    <tr>\n",
       "      <th>3</th>\n",
       "      <td>0</td>\n",
       "      <td>csgo matchmaking full closet hacking, truly aw...</td>\n",
       "    </tr>\n",
       "    <tr>\n",
       "      <th>5</th>\n",
       "      <td>0</td>\n",
       "      <td>hi @eahelp i’ve madeleine mccann cellar past 1...</td>\n",
       "    </tr>\n",
       "    <tr>\n",
       "      <th>6</th>\n",
       "      <td>1</td>\n",
       "      <td>thank @eamaddennfl!! new te austin hooper oran...</td>\n",
       "    </tr>\n",
       "    <tr>\n",
       "      <th>7</th>\n",
       "      <td>1</td>\n",
       "      <td>rocket league, sea thieves rainbow six: siege🤔...</td>\n",
       "    </tr>\n",
       "  </tbody>\n",
       "</table>\n",
       "</div>"
      ]
     },
     "execution_count": 11,
     "metadata": {},
     "output_type": "execute_result"
    }
   ],
   "execution_count": 11
  },
  {
   "metadata": {
    "ExecuteTime": {
     "end_time": "2024-08-07T19:26:15.017641Z",
     "start_time": "2024-08-07T19:26:14.990641Z"
    }
   },
   "cell_type": "code",
   "source": [
    "# cleaning and removing all the punctuations\n",
    "\n",
    "english_punctuations = string.punctuation\n",
    "print(english_punctuations)\n",
    "\n",
    "data['text'] = data['text'].apply(lambda text: remove_punctuations(text, english_punctuations))\n",
    "data.head()"
   ],
   "id": "4bc97757178126ca",
   "outputs": [
    {
     "name": "stdout",
     "output_type": "stream",
     "text": [
      "!\"#$%&'()*+,-./:;<=>?@[\\]^_`{|}~\n"
     ]
    },
    {
     "data": {
      "text/plain": [
       "  target                                               text\n",
       "2      0  microsoft pay word functions poorly samsungus ...\n",
       "3      0  csgo matchmaking full closet hacking truly awf...\n",
       "5      0  hi eahelp i’ve madeleine mccann cellar past 13...\n",
       "6      1  thank eamaddennfl new te austin hooper orange ...\n",
       "7      1  rocket league sea thieves rainbow six siege🤔 l..."
      ],
      "text/html": [
       "<div>\n",
       "<style scoped>\n",
       "    .dataframe tbody tr th:only-of-type {\n",
       "        vertical-align: middle;\n",
       "    }\n",
       "\n",
       "    .dataframe tbody tr th {\n",
       "        vertical-align: top;\n",
       "    }\n",
       "\n",
       "    .dataframe thead th {\n",
       "        text-align: right;\n",
       "    }\n",
       "</style>\n",
       "<table border=\"1\" class=\"dataframe\">\n",
       "  <thead>\n",
       "    <tr style=\"text-align: right;\">\n",
       "      <th></th>\n",
       "      <th>target</th>\n",
       "      <th>text</th>\n",
       "    </tr>\n",
       "  </thead>\n",
       "  <tbody>\n",
       "    <tr>\n",
       "      <th>2</th>\n",
       "      <td>0</td>\n",
       "      <td>microsoft pay word functions poorly samsungus ...</td>\n",
       "    </tr>\n",
       "    <tr>\n",
       "      <th>3</th>\n",
       "      <td>0</td>\n",
       "      <td>csgo matchmaking full closet hacking truly awf...</td>\n",
       "    </tr>\n",
       "    <tr>\n",
       "      <th>5</th>\n",
       "      <td>0</td>\n",
       "      <td>hi eahelp i’ve madeleine mccann cellar past 13...</td>\n",
       "    </tr>\n",
       "    <tr>\n",
       "      <th>6</th>\n",
       "      <td>1</td>\n",
       "      <td>thank eamaddennfl new te austin hooper orange ...</td>\n",
       "    </tr>\n",
       "    <tr>\n",
       "      <th>7</th>\n",
       "      <td>1</td>\n",
       "      <td>rocket league sea thieves rainbow six siege🤔 l...</td>\n",
       "    </tr>\n",
       "  </tbody>\n",
       "</table>\n",
       "</div>"
      ]
     },
     "execution_count": 12,
     "metadata": {},
     "output_type": "execute_result"
    }
   ],
   "execution_count": 12
  },
  {
   "metadata": {
    "ExecuteTime": {
     "end_time": "2024-08-07T19:26:15.051642Z",
     "start_time": "2024-08-07T19:26:15.019641Z"
    }
   },
   "cell_type": "code",
   "source": [
    "# cleaning and removing all the URLs\n",
    "\n",
    "data['text'] = data['text'].apply(lambda text: remove_URLs(text))\n",
    "data.head()"
   ],
   "id": "2332f0e31ae6ab9",
   "outputs": [
    {
     "data": {
      "text/plain": [
       "  target                                               text\n",
       "2      0  microsoft pay word functions poorly samsungus ...\n",
       "3      0  csgo matchmaking full closet hacking truly awf...\n",
       "5      0  hi eahelp i’ve madeleine mccann cellar past 13...\n",
       "6      1  thank eamaddennfl new te austin hooper orange ...\n",
       "7      1  rocket league sea thieves rainbow six siege🤔 l..."
      ],
      "text/html": [
       "<div>\n",
       "<style scoped>\n",
       "    .dataframe tbody tr th:only-of-type {\n",
       "        vertical-align: middle;\n",
       "    }\n",
       "\n",
       "    .dataframe tbody tr th {\n",
       "        vertical-align: top;\n",
       "    }\n",
       "\n",
       "    .dataframe thead th {\n",
       "        text-align: right;\n",
       "    }\n",
       "</style>\n",
       "<table border=\"1\" class=\"dataframe\">\n",
       "  <thead>\n",
       "    <tr style=\"text-align: right;\">\n",
       "      <th></th>\n",
       "      <th>target</th>\n",
       "      <th>text</th>\n",
       "    </tr>\n",
       "  </thead>\n",
       "  <tbody>\n",
       "    <tr>\n",
       "      <th>2</th>\n",
       "      <td>0</td>\n",
       "      <td>microsoft pay word functions poorly samsungus ...</td>\n",
       "    </tr>\n",
       "    <tr>\n",
       "      <th>3</th>\n",
       "      <td>0</td>\n",
       "      <td>csgo matchmaking full closet hacking truly awf...</td>\n",
       "    </tr>\n",
       "    <tr>\n",
       "      <th>5</th>\n",
       "      <td>0</td>\n",
       "      <td>hi eahelp i’ve madeleine mccann cellar past 13...</td>\n",
       "    </tr>\n",
       "    <tr>\n",
       "      <th>6</th>\n",
       "      <td>1</td>\n",
       "      <td>thank eamaddennfl new te austin hooper orange ...</td>\n",
       "    </tr>\n",
       "    <tr>\n",
       "      <th>7</th>\n",
       "      <td>1</td>\n",
       "      <td>rocket league sea thieves rainbow six siege🤔 l...</td>\n",
       "    </tr>\n",
       "  </tbody>\n",
       "</table>\n",
       "</div>"
      ]
     },
     "execution_count": 13,
     "metadata": {},
     "output_type": "execute_result"
    }
   ],
   "execution_count": 13
  },
  {
   "metadata": {
    "ExecuteTime": {
     "end_time": "2024-08-07T19:26:15.111643Z",
     "start_time": "2024-08-07T19:26:15.071642Z"
    }
   },
   "cell_type": "code",
   "source": [
    "# cleaning and removing all the numbers\n",
    "\n",
    "data['text'] = data['text'].apply(remove_numbers)\n",
    "data.head()"
   ],
   "id": "b259a8b8bd2d26f7",
   "outputs": [
    {
     "data": {
      "text/plain": [
       "  target                                               text\n",
       "2      0  microsoft pay word functions poorly samsungus ...\n",
       "3      0  csgo matchmaking full closet hacking truly awf...\n",
       "5      0  hi eahelp i’ve madeleine mccann cellar past   ...\n",
       "6      1  thank eamaddennfl new te austin hooper orange ...\n",
       "7      1  rocket league sea thieves rainbow six siege🤔 l..."
      ],
      "text/html": [
       "<div>\n",
       "<style scoped>\n",
       "    .dataframe tbody tr th:only-of-type {\n",
       "        vertical-align: middle;\n",
       "    }\n",
       "\n",
       "    .dataframe tbody tr th {\n",
       "        vertical-align: top;\n",
       "    }\n",
       "\n",
       "    .dataframe thead th {\n",
       "        text-align: right;\n",
       "    }\n",
       "</style>\n",
       "<table border=\"1\" class=\"dataframe\">\n",
       "  <thead>\n",
       "    <tr style=\"text-align: right;\">\n",
       "      <th></th>\n",
       "      <th>target</th>\n",
       "      <th>text</th>\n",
       "    </tr>\n",
       "  </thead>\n",
       "  <tbody>\n",
       "    <tr>\n",
       "      <th>2</th>\n",
       "      <td>0</td>\n",
       "      <td>microsoft pay word functions poorly samsungus ...</td>\n",
       "    </tr>\n",
       "    <tr>\n",
       "      <th>3</th>\n",
       "      <td>0</td>\n",
       "      <td>csgo matchmaking full closet hacking truly awf...</td>\n",
       "    </tr>\n",
       "    <tr>\n",
       "      <th>5</th>\n",
       "      <td>0</td>\n",
       "      <td>hi eahelp i’ve madeleine mccann cellar past   ...</td>\n",
       "    </tr>\n",
       "    <tr>\n",
       "      <th>6</th>\n",
       "      <td>1</td>\n",
       "      <td>thank eamaddennfl new te austin hooper orange ...</td>\n",
       "    </tr>\n",
       "    <tr>\n",
       "      <th>7</th>\n",
       "      <td>1</td>\n",
       "      <td>rocket league sea thieves rainbow six siege🤔 l...</td>\n",
       "    </tr>\n",
       "  </tbody>\n",
       "</table>\n",
       "</div>"
      ]
     },
     "execution_count": 14,
     "metadata": {},
     "output_type": "execute_result"
    }
   ],
   "execution_count": 14
  },
  {
   "metadata": {
    "ExecuteTime": {
     "end_time": "2024-08-07T19:26:15.190641Z",
     "start_time": "2024-08-07T19:26:15.115642Z"
    }
   },
   "cell_type": "code",
   "source": [
    "# getting tokenization of the tweet texts\n",
    "\n",
    "tokenizer = RegexpTokenizer(r'\\w+')\n",
    "\n",
    "data['text'] = data['text'].apply(tokenizer.tokenize)\n",
    "data.head()"
   ],
   "id": "94117103ef2e7a28",
   "outputs": [
    {
     "data": {
      "text/plain": [
       "  target                                               text\n",
       "2      0  [microsoft, pay, word, functions, poorly, sams...\n",
       "3      0  [csgo, matchmaking, full, closet, hacking, tru...\n",
       "5      0  [hi, eahelp, i, ve, madeleine, mccann, cellar,...\n",
       "6      1  [thank, eamaddennfl, new, te, austin, hooper, ...\n",
       "7      1  [rocket, league, sea, thieves, rainbow, six, s..."
      ],
      "text/html": [
       "<div>\n",
       "<style scoped>\n",
       "    .dataframe tbody tr th:only-of-type {\n",
       "        vertical-align: middle;\n",
       "    }\n",
       "\n",
       "    .dataframe tbody tr th {\n",
       "        vertical-align: top;\n",
       "    }\n",
       "\n",
       "    .dataframe thead th {\n",
       "        text-align: right;\n",
       "    }\n",
       "</style>\n",
       "<table border=\"1\" class=\"dataframe\">\n",
       "  <thead>\n",
       "    <tr style=\"text-align: right;\">\n",
       "      <th></th>\n",
       "      <th>target</th>\n",
       "      <th>text</th>\n",
       "    </tr>\n",
       "  </thead>\n",
       "  <tbody>\n",
       "    <tr>\n",
       "      <th>2</th>\n",
       "      <td>0</td>\n",
       "      <td>[microsoft, pay, word, functions, poorly, sams...</td>\n",
       "    </tr>\n",
       "    <tr>\n",
       "      <th>3</th>\n",
       "      <td>0</td>\n",
       "      <td>[csgo, matchmaking, full, closet, hacking, tru...</td>\n",
       "    </tr>\n",
       "    <tr>\n",
       "      <th>5</th>\n",
       "      <td>0</td>\n",
       "      <td>[hi, eahelp, i, ve, madeleine, mccann, cellar,...</td>\n",
       "    </tr>\n",
       "    <tr>\n",
       "      <th>6</th>\n",
       "      <td>1</td>\n",
       "      <td>[thank, eamaddennfl, new, te, austin, hooper, ...</td>\n",
       "    </tr>\n",
       "    <tr>\n",
       "      <th>7</th>\n",
       "      <td>1</td>\n",
       "      <td>[rocket, league, sea, thieves, rainbow, six, s...</td>\n",
       "    </tr>\n",
       "  </tbody>\n",
       "</table>\n",
       "</div>"
      ]
     },
     "execution_count": 15,
     "metadata": {},
     "output_type": "execute_result"
    }
   ],
   "execution_count": 15
  },
  {
   "metadata": {
    "ExecuteTime": {
     "end_time": "2024-08-07T19:26:15.348640Z",
     "start_time": "2024-08-07T19:26:15.192643Z"
    }
   },
   "cell_type": "code",
   "source": [
    "# applying stemming \n",
    "\n",
    "st = nltk.PorterStemmer()\n",
    "\n",
    "data['text'] = data['text'].apply(lambda text: stemming(text, st))\n",
    "data.head()"
   ],
   "id": "789a14e3f984660f",
   "outputs": [
    {
     "data": {
      "text/plain": [
       "  target                                               text\n",
       "2      0  [microsoft, pay, word, functions, poorly, sams...\n",
       "3      0  [csgo, matchmaking, full, closet, hacking, tru...\n",
       "5      0  [hi, eahelp, i, ve, madeleine, mccann, cellar,...\n",
       "6      1  [thank, eamaddennfl, new, te, austin, hooper, ...\n",
       "7      1  [rocket, league, sea, thieves, rainbow, six, s..."
      ],
      "text/html": [
       "<div>\n",
       "<style scoped>\n",
       "    .dataframe tbody tr th:only-of-type {\n",
       "        vertical-align: middle;\n",
       "    }\n",
       "\n",
       "    .dataframe tbody tr th {\n",
       "        vertical-align: top;\n",
       "    }\n",
       "\n",
       "    .dataframe thead th {\n",
       "        text-align: right;\n",
       "    }\n",
       "</style>\n",
       "<table border=\"1\" class=\"dataframe\">\n",
       "  <thead>\n",
       "    <tr style=\"text-align: right;\">\n",
       "      <th></th>\n",
       "      <th>target</th>\n",
       "      <th>text</th>\n",
       "    </tr>\n",
       "  </thead>\n",
       "  <tbody>\n",
       "    <tr>\n",
       "      <th>2</th>\n",
       "      <td>0</td>\n",
       "      <td>[microsoft, pay, word, functions, poorly, sams...</td>\n",
       "    </tr>\n",
       "    <tr>\n",
       "      <th>3</th>\n",
       "      <td>0</td>\n",
       "      <td>[csgo, matchmaking, full, closet, hacking, tru...</td>\n",
       "    </tr>\n",
       "    <tr>\n",
       "      <th>5</th>\n",
       "      <td>0</td>\n",
       "      <td>[hi, eahelp, i, ve, madeleine, mccann, cellar,...</td>\n",
       "    </tr>\n",
       "    <tr>\n",
       "      <th>6</th>\n",
       "      <td>1</td>\n",
       "      <td>[thank, eamaddennfl, new, te, austin, hooper, ...</td>\n",
       "    </tr>\n",
       "    <tr>\n",
       "      <th>7</th>\n",
       "      <td>1</td>\n",
       "      <td>[rocket, league, sea, thieves, rainbow, six, s...</td>\n",
       "    </tr>\n",
       "  </tbody>\n",
       "</table>\n",
       "</div>"
      ]
     },
     "execution_count": 16,
     "metadata": {},
     "output_type": "execute_result"
    }
   ],
   "execution_count": 16
  },
  {
   "metadata": {
    "ExecuteTime": {
     "end_time": "2024-08-07T19:26:16.763640Z",
     "start_time": "2024-08-07T19:26:15.349643Z"
    }
   },
   "cell_type": "code",
   "source": [
    "# applying lemmatizer\n",
    "\n",
    "lm = nltk.WordNetLemmatizer()\n",
    "\n",
    "data['text'] = data['text'].apply(lambda text: lemmatizing(text, lm))\n",
    "data.head()"
   ],
   "id": "9d282236b9566d99",
   "outputs": [
    {
     "data": {
      "text/plain": [
       "  target                                               text\n",
       "2      0  [microsoft, pay, word, functions, poorly, sams...\n",
       "3      0  [csgo, matchmaking, full, closet, hacking, tru...\n",
       "5      0  [hi, eahelp, i, ve, madeleine, mccann, cellar,...\n",
       "6      1  [thank, eamaddennfl, new, te, austin, hooper, ...\n",
       "7      1  [rocket, league, sea, thieves, rainbow, six, s..."
      ],
      "text/html": [
       "<div>\n",
       "<style scoped>\n",
       "    .dataframe tbody tr th:only-of-type {\n",
       "        vertical-align: middle;\n",
       "    }\n",
       "\n",
       "    .dataframe tbody tr th {\n",
       "        vertical-align: top;\n",
       "    }\n",
       "\n",
       "    .dataframe thead th {\n",
       "        text-align: right;\n",
       "    }\n",
       "</style>\n",
       "<table border=\"1\" class=\"dataframe\">\n",
       "  <thead>\n",
       "    <tr style=\"text-align: right;\">\n",
       "      <th></th>\n",
       "      <th>target</th>\n",
       "      <th>text</th>\n",
       "    </tr>\n",
       "  </thead>\n",
       "  <tbody>\n",
       "    <tr>\n",
       "      <th>2</th>\n",
       "      <td>0</td>\n",
       "      <td>[microsoft, pay, word, functions, poorly, sams...</td>\n",
       "    </tr>\n",
       "    <tr>\n",
       "      <th>3</th>\n",
       "      <td>0</td>\n",
       "      <td>[csgo, matchmaking, full, closet, hacking, tru...</td>\n",
       "    </tr>\n",
       "    <tr>\n",
       "      <th>5</th>\n",
       "      <td>0</td>\n",
       "      <td>[hi, eahelp, i, ve, madeleine, mccann, cellar,...</td>\n",
       "    </tr>\n",
       "    <tr>\n",
       "      <th>6</th>\n",
       "      <td>1</td>\n",
       "      <td>[thank, eamaddennfl, new, te, austin, hooper, ...</td>\n",
       "    </tr>\n",
       "    <tr>\n",
       "      <th>7</th>\n",
       "      <td>1</td>\n",
       "      <td>[rocket, league, sea, thieves, rainbow, six, s...</td>\n",
       "    </tr>\n",
       "  </tbody>\n",
       "</table>\n",
       "</div>"
      ]
     },
     "execution_count": 17,
     "metadata": {},
     "output_type": "execute_result"
    }
   ],
   "execution_count": 17
  },
  {
   "metadata": {
    "ExecuteTime": {
     "end_time": "2024-08-07T19:26:16.779640Z",
     "start_time": "2024-08-07T19:26:16.765640Z"
    }
   },
   "cell_type": "code",
   "source": [
    "# separating input features and labels\n",
    "\n",
    "Xdata = data['text'].astype(str)\n",
    "ydata = data['target'].astype(int)"
   ],
   "id": "4c6f3e392cd0a0e5",
   "outputs": [],
   "execution_count": 18
  },
  {
   "metadata": {
    "ExecuteTime": {
     "end_time": "2024-08-07T19:26:26.576335Z",
     "start_time": "2024-08-07T19:26:16.781642Z"
    }
   },
   "cell_type": "code",
   "source": [
    "# transforming the subdatasets using the fitted before TF-IDF Vectorizer\n",
    "\n",
    "vectorizer = joblib.load('../vectorizer/fitted_vectorizer.pkl')\n",
    "\n",
    "Xdata = vectorizer.transform(Xdata)"
   ],
   "id": "fa134ed078e5d093",
   "outputs": [],
   "execution_count": 19
  },
  {
   "metadata": {
    "ExecuteTime": {
     "end_time": "2024-08-07T19:26:26.607335Z",
     "start_time": "2024-08-07T19:26:26.578334Z"
    }
   },
   "cell_type": "code",
   "source": [
    "# loading the trained before model\n",
    "\n",
    "model = joblib.load('../models/twitter_logistic_model.pkl')"
   ],
   "id": "5b6adead2e0d1439",
   "outputs": [],
   "execution_count": 20
  },
  {
   "metadata": {
    "ExecuteTime": {
     "end_time": "2024-08-07T19:26:27.111334Z",
     "start_time": "2024-08-07T19:26:26.609335Z"
    }
   },
   "cell_type": "code",
   "source": [
    "# evaluating model\n",
    "\n",
    "evaluate_model(model, Xdata, ydata)"
   ],
   "id": "b1285271cd56c748",
   "outputs": [
    {
     "name": "stdout",
     "output_type": "stream",
     "text": [
      "              precision    recall  f1-score   support\n",
      "\n",
      "           0       0.77      0.62      0.69       266\n",
      "           1       0.70      0.82      0.75       277\n",
      "\n",
      "    accuracy                           0.73       543\n",
      "   macro avg       0.73      0.72      0.72       543\n",
      "weighted avg       0.73      0.73      0.72       543\n",
      "\n",
      "Accuracy: 0.7255985267034991\n",
      "F1 score: 0.753719\n",
      "ROC AUC score for: 0.8025569338508726\n"
     ]
    },
    {
     "data": {
      "text/plain": [
       "<Figure size 432x288 with 2 Axes>"
      ],
      "image/png": "[encoded data removed]"
     },
     "metadata": {
      "needs_background": "light"
     },
     "output_type": "display_data"
    },
    {
     "data": {
      "text/plain": [
       "<Figure size 432x288 with 1 Axes>"
      ],
      "image/png": "[encoded data removed]"
     },
     "metadata": {
      "needs_background": "light"
     },
     "output_type": "display_data"
    },
    {
     "data": {
      "text/plain": [
       "(0.7255985267034991, 0.7537190082644628, 0.8025569338508726)"
      ]
     },
     "execution_count": 21,
     "metadata": {},
     "output_type": "execute_result"
    }
   ],
   "execution_count": 21
  },
  {
   "metadata": {},
   "cell_type": "markdown",
   "source": "## Conclusion",
   "id": "5574cd020bd86db"
  },
  {
   "metadata": {},
   "cell_type": "markdown",
   "source": [
    "Based on the performance metrics provided for the logistic regression model, I can draw several conclusions about its effectiveness on the given dataset.\n",
    "\n",
    "The model has an accuracy of approximately 72.56%. This means that about 72.56% of the predictions made by the model are correct.\n",
    "\n",
    "The ROC AUC score is 0.80, which indicates good separability between the classes. A score closer to 1 would be ideal, but 0.80 still reflects a strong ability to distinguish between positive and negative sentiments.\n",
    "\n",
    "The logistic regression model demonstrates reasonably good performance, with a balanced precision and recall, particularly excelling in identifying positive sentiments (class 1).\n",
    "\n",
    "The higher recall for class 1 suggests that the model is good at capturing positive sentiments, though it may miss some negative sentiments (class 0) as indicated by its lower recall.\n",
    "\n",
    "Given these metrics, the model can be considered effective for sentiment analysis."
   ],
   "id": "293348cb5f80b76f"
  },
  {
   "metadata": {
    "ExecuteTime": {
     "end_time": "2024-08-07T19:26:27.126334Z",
     "start_time": "2024-08-07T19:26:27.112336Z"
    }
   },
   "cell_type": "code",
   "source": "",
   "id": "feacf9cf8c93325c",
   "outputs": [],
   "execution_count": 21
  }
 ],
 "metadata": {
  "kernelspec": {
   "display_name": "Python 3",
   "language": "python",
   "name": "python3"
  },
  "language_info": {
   "codemirror_mode": {
    "name": "ipython",
    "version": 2
   },
   "file_extension": ".py",
   "mimetype": "text/x-python",
   "name": "python",
   "nbconvert_exporter": "python",
   "pygments_lexer": "ipython2",
   "version": "2.7.6"
  }
 },
 "nbformat": 4,
 "nbformat_minor": 5
}
